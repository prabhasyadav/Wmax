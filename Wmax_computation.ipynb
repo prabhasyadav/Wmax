{
 "cells": [
  {
   "cell_type": "markdown",
   "metadata": {},
   "source": [
    "## Supplimentaty material for the Paper ##\n",
    "\n",
    "The code below solves the following equation set. \n",
    "\n",
    "$$\n",
    "\\frac{2}{\\pi} A \\bigg[\\text{erf}\\bigg(\\frac{y+W}{\\sqrt{4\\alpha_{Th}\\,x}}\\bigg) -  \\text{erf}\\bigg(\\frac{y-W}{\\sqrt{4\\alpha_{Th}\\,x}}\\bigg)\\bigg ]\\\\\n",
    "\\cdot e^{(- B x)}- D = 0\n",
    "$$\n",
    "\n",
    "$$\n",
    "-B D +\\frac{2 A }{\\pi}\\left(\\frac{\\left(- \\frac{W}{2} + \\frac{y}{2}\\right) e^{- \\frac{\\left(- W + y\\right)^{2}}{4 \\alpha_{Th} \\,x}}}{\\sqrt{\\pi} x \\sqrt{\\alpha_{Th}\\,x}} - \\frac{\\left(\\frac{W}{2} + \\frac{y}{2}\\right) e^{- \\frac{\\left(W + y\\right)^{2}}{4 \\alpha_{Th} x}}}{\\sqrt{\\pi} x \\sqrt{\\alpha_{Th} \\,x}}\\right) e^{(- B x)}=0\n",
    "$$\n",
    "\n",
    "with\n",
    "\n",
    " $ A=  (\\gamma C_D^\\circ + C_A^\\circ) $, $ B = \\frac{\\pi^2}{4M^2}\\alpha_{Tv}$, and $D =(C_A^\\circ + C^\\ast)$\n",
    "\n",
    "(The symbols name are in input cell)\n",
    " \n",
    "\n",
    "**The solution steps:**\n",
    "\n",
    "1. Provide model input\n",
    "2. Obtain estimate of $L_{max}$ using Liedl et al. (2011)\n",
    "3. Adjust the starting value for $W_{max}$ and $X_{wmax}$\n",
    "4. Iteratively solve the equation set using Newton-Krylov (LGMRES method, see below for details)\n",
    "\n",
    "\n",
    "**First we import the Python library** "
   ]
  },
  {
   "cell_type": "code",
   "execution_count": 26,
   "metadata": {
    "ExecuteTime": {
     "end_time": "2020-12-09T14:16:05.124527Z",
     "start_time": "2020-12-09T14:15:42.334498Z"
    }
   },
   "outputs": [],
   "source": [
    "import numpy as np\n",
    "from sympy import diff, symbols\n",
    "import matplotlib.pyplot as plt\n",
    "import scipy.optimize as so\n",
    "import scipy.special as ss\n",
    "from scipy import optimize\n",
    "from scipy.special import erf"
   ]
  },
  {
   "cell_type": "markdown",
   "metadata": {},
   "source": [
    "### Step 1: the model input: "
   ]
  },
  {
   "cell_type": "code",
   "execution_count": 27,
   "metadata": {
    "ExecuteTime": {
     "end_time": "2020-12-09T14:17:51.110755Z",
     "start_time": "2020-12-09T14:17:51.102755Z"
    }
   },
   "outputs": [],
   "source": [
    "M = 2\n",
    "W = 5\n",
    "ath = 0.036\n",
    "atv = 0.0018\n",
    "Ca = 7.68\n",
    "Cd = 17.3\n",
    "Ct = 0.01\n",
    "ga = 3.5"
   ]
  },
  {
   "cell_type": "markdown",
   "metadata": {},
   "source": [
    "\n",
    "### Step II: Obtaining $L_{max}$ using Liedl et al. (2011) ###\n",
    "\n",
    "The expression provided in Liedl et al. (2011) is:\n",
    "\n",
    "$$\n",
    "\\text{erf}\\Bigg(\\frac{W}{\\sqrt{4\\alpha_{Th}L_{max}}}\\Bigg)\\,\\text{e}^{-\\alpha_{Tv}L_{max} \\big(\\frac{\\pi}{2M}\\big)^2} =\\frac{\\pi}{4}\\frac{\\gamma C^*+C_{A}^\\circ}{\\gamma C_{D}^\\circ+C_{A}^\\circ}\n",
    "$$\n",
    "\n",
    "$L_{max}$ is implicit and requires iterative solution. We use Newton-Raphson (NR) method to obtain $L_{max}$.\n",
    "\n",
    "The code below solves NR using estimate for differential and using exact FD\n",
    "\n",
    "\n",
    "**The main NR routine**"
   ]
  },
  {
   "cell_type": "code",
   "execution_count": 28,
   "metadata": {
    "ExecuteTime": {
     "end_time": "2020-12-09T14:17:51.584886Z",
     "start_time": "2020-12-09T14:17:51.565919Z"
    },
    "code_folding": []
   },
   "outputs": [],
   "source": [
    "def f_lm(x): # Liedl 2011- f(x) = 0\n",
    "    return erf(W/(np.sqrt(4*ath*x)))*np.exp(-atv*x*(np.pi/(2*M))**2)-(np.pi/4)*((ga*Ct+Ca)/(ga*Cd + Ca)) \n",
    "\n",
    "def df_lm(x): # FD estimate df\n",
    "    h = 1e-4\n",
    "    return (f_lm(x+h) - f_lm(x-h))/(2*h)\n",
    "\n",
    "def df_lm1(x): # exact df\n",
    "    return -W/(2*x*np.sqrt(np.pi)*np.sqrt(atv*x))*np.exp(-(W**2)/(4*atv*x))*np.exp(-(np.pi**2*atv*x)/(4*M**2)) \\\n",
    "        - (1/(4*M**2))*np.pi**2*atv*np.exp((-np.pi**2*atv*x)/(4*M**2))*erf(W/(2*np.sqrt(atv*x)))  \n",
    "\n",
    "def NR(x): # Newton Raphson simulation using FD\n",
    "    iterat = 0\n",
    "    tol = 1e-06\n",
    "    h = f_lm(x)/df_lm(x)\n",
    "    print(\"Iter. Nr \",\"\", \"Lmax\",\"       \" , \" Residual\")\n",
    "    print('-'*35)   \n",
    "    \n",
    "    while abs(h)>= tol:\n",
    "        h = f_lm(x)/df_lm(x) \n",
    "        x = x - h\n",
    "        iterat+= 1 \n",
    "        #print(\" \",iterat,  \"    \" , \"%.4f \"% x, \"   \" , \"%.2e \" %  h) \n",
    "    return x\n",
    "        \n",
    "def NR1(x): # Newton Raphson simulation using exact df\n",
    "    iterat = 0\n",
    "    tol = 1e-06\n",
    "    h = f_lm(x)/df_lm1(x)\n",
    "    \n",
    "    while abs(h)>= tol:\n",
    "        h = f_lm(x)/df_lm1(x)\n",
    "        x = x - h\n",
    "        iterat+= 1\n",
    "    return x "
   ]
  },
  {
   "cell_type": "markdown",
   "metadata": {},
   "source": [
    "**Starting value for NR method**\n",
    "\n",
    "The starting value is based on Liedl et al. (2005), which provides explicit $L_{max}$ from 2D set-up. "
   ]
  },
  {
   "cell_type": "code",
   "execution_count": 29,
   "metadata": {
    "ExecuteTime": {
     "end_time": "2020-12-09T14:17:52.044929Z",
     "start_time": "2020-12-09T14:17:52.014727Z"
    },
    "code_folding": []
   },
   "outputs": [],
   "source": [
    "ma_1 = -1/(np.pi*(ath/W**2)*np.log(1-(0.25*np.pi*((ga*Ct+Ca)/(ga*Cd+Ca)))))\n",
    "ma_2 = -2/(np.pi**2*(atv/M**2))*np.log(0.25*np.pi*((ga*Ct+Ca)/(ga*Cd+Ca))) \n",
    "ma_3 = 4/np.pi**2*(M**2/atv)*np.log((4/np.pi)*((ga*Cd+ Ca)/(ga*Ct+ Ca)))\n",
    "\n",
    "ma_x0 = np.minimum(np.maximum(ma_1, ma_2), ma_3)\n",
    "\n",
    "min_x0 = np.minimum(-1/(np.pi*(ath/W**2) *np.log(1-(0.25*np.pi*((ga*Ct+Ca)/(ga*Cd+Ca))))), \\\n",
    "                    -2/(np.pi**2*(atv/M**2))*np.log(0.25*np.pi*((ga*Ct+Ca)/(ga*Cd+Ca))))\n",
    "\n",
    "if ma_x0 == ma_3:\n",
    "    x0 = ma_x0\n",
    "else:\n",
    "    x0 = min_x0 "
   ]
  },
  {
   "cell_type": "code",
   "execution_count": 30,
   "metadata": {
    "ExecuteTime": {
     "end_time": "2020-12-09T14:17:52.405126Z",
     "start_time": "2020-12-09T14:17:52.383763Z"
    },
    "tags": []
   },
   "outputs": [
    {
     "name": "stdout",
     "output_type": "stream",
     "text": [
      "Iter. Nr   Lmax          Residual\n",
      "-----------------------------------\n",
      "1333.098505604007\n"
     ]
    }
   ],
   "source": [
    "lmax = NR(x0) # simulations using exact differential\n",
    "print(lmax) "
   ]
  },
  {
   "cell_type": "markdown",
   "metadata": {},
   "source": [
    "### Step III: Starting value of $W_{max}$ and $X_{wmax}$ ###\n",
    "\n",
    "- We use $L_{max}$ from above to obtain the starting value of $X_{wmax}$\n",
    "- For $W_{max}$ the starting value is arbitarily considered (See accompanied table to choose appropriate starting value)"
   ]
  },
  {
   "cell_type": "code",
   "execution_count": 31,
   "metadata": {
    "ExecuteTime": {
     "end_time": "2020-12-09T14:17:52.804890Z",
     "start_time": "2020-12-09T14:17:52.792320Z"
    },
    "tags": []
   },
   "outputs": [
    {
     "name": "stdout",
     "output_type": "stream",
     "text": [
      "333.27462640100174\n",
      "6.5\n"
     ]
    }
   ],
   "source": [
    "A = (ga*Cd+Ca)\n",
    "B = (np.pi**2*atv)/(4*M**2)\n",
    "D = Ca+Ct\n",
    "x_s = lmax/ 4\n",
    "print(x_s)\n",
    "y_s = W * 1.3\n",
    "print(y_s)\n",
    "st = [x_s, y_s] "
   ]
  },
  {
   "cell_type": "markdown",
   "metadata": {},
   "source": [
    "### Step IV: Solution of $W_{max}$ and $X_{wmax}$ using Newton-Krylov (NK) non-linear system solver using LGMRES method. ###\n",
    "\n",
    "The code used below is described in detailed here: \n",
    "https://docs.scipy.org/doc/scipy/reference/generated/scipy.optimize.newton_krylov.html\n",
    "\n",
    "First we set-up our function"
   ]
  },
  {
   "cell_type": "code",
   "execution_count": 32,
   "metadata": {
    "ExecuteTime": {
     "end_time": "2020-12-09T14:17:53.204526Z",
     "start_time": "2020-12-09T14:17:53.184823Z"
    },
    "code_folding": []
   },
   "outputs": [],
   "source": [
    "def f(x): \n",
    "    return [(2*A)/(np.pi)*(ss.erf((x[1]+W)/(np.sqrt(4*ath*x[0])))-ss.erf((x[1]-W)/(np.sqrt(4*ath*x[0]))))*np.exp(-B*x[0])-D, \n",
    "            -B*D + (2*A)/np.pi*np.exp(-B*x[0])*((((-W/2 + x[1]/2)*np.exp(-(x[1]-W)**2/(4*ath*x[0])))/(x[0]*np.sqrt(np.pi*ath*x[0]))) - (((W/2 + x[1]/2)*np.exp(-(x[1]+W)**2/(4*ath*x[0])))/(x[0]*np.sqrt(np.pi*ath*x[0]))))]"
   ]
  },
  {
   "cell_type": "markdown",
   "metadata": {},
   "source": [
    "**The main NK routine**\n",
    "\n",
    "Few solver conditions:\n",
    "\n",
    "tolerance: 6e-6\n",
    "Preconditioner for Jacobian: None\n",
    "Maximum iteration: Not set.\n",
    "\n",
    "The solution format (see below) is ($X_{wmax}$, $W_{max}$) and $L_{max}$"
   ]
  },
  {
   "cell_type": "code",
   "execution_count": 33,
   "metadata": {
    "ExecuteTime": {
     "end_time": "2020-12-09T14:17:53.804850Z",
     "start_time": "2020-12-09T14:17:53.624938Z"
    },
    "tags": []
   },
   "outputs": [
    {
     "name": "stdout",
     "output_type": "stream",
     "text": [
      "0:  |F(x)| = 4.38903; step 1\n",
      "1:  |F(x)| = 0.784995; step 1\n",
      "2:  |F(x)| = 0.0390243; step 1\n",
      "3:  |F(x)| = 0.00483961; step 1\n",
      "4:  |F(x)| = 0.00483965; step 1\n",
      "5:  |F(x)| = 0.00483965; step 1\n",
      "6:  |F(x)| = 0.00483965; step 1\n",
      "7:  |F(x)| = 0.00483965; step 1\n",
      "8:  |F(x)| = 0.00483965; step 1\n",
      "9:  |F(x)| = 7.02837; step 1\n",
      "10:  |F(x)| = 1.60188; step 1\n",
      "11:  |F(x)| = 0.144272; step 1\n",
      "12:  |F(x)| = 0.00483912; step 1\n",
      "13:  |F(x)| = 0.00483965; step 1\n",
      "14:  |F(x)| = 8.40867; step 1\n",
      "15:  |F(x)| = 2.08032; step 1\n",
      "16:  |F(x)| = 0.228314; step 1\n",
      "17:  |F(x)| = 0.00330359; step 1\n",
      "18:  |F(x)| = 0.951433; step 1\n",
      "19:  |F(x)| = 0.0557367; step 1\n",
      "20:  |F(x)| = 0.00238468; step 1\n",
      "21:  |F(x)| = 0.00227957; step 0.0437571\n",
      "22:  |F(x)| = 0.00218419; step 0.0415658\n",
      "23:  |F(x)| = 0.00209682; step 0.0397667\n",
      "24:  |F(x)| = 0.00201605; step 0.038311\n",
      "25:  |F(x)| = 0.00194074; step 0.0371648\n",
      "26:  |F(x)| = 0.00186995; step 0.0363023\n",
      "27:  |F(x)| = 0.00180289; step 0.0357017\n",
      "28:  |F(x)| = 0.0017389; step 0.0353461\n",
      "29:  |F(x)| = 0.00167741; step 0.0352211\n",
      "30:  |F(x)| = 0.00161794; step 0.0353125\n",
      "31:  |F(x)| = 0.00156011; step 0.035613\n",
      "32:  |F(x)| = 0.00150356; step 0.036116\n",
      "33:  |F(x)| = 0.001448; step 0.0368208\n",
      "34:  |F(x)| = 0.00139317; step 0.0377298\n",
      "35:  |F(x)| = 0.00133886; step 0.0388509\n",
      "36:  |F(x)| = 0.00128486; step 0.0401969\n",
      "37:  |F(x)| = 0.00123098; step 0.0417865\n",
      "38:  |F(x)| = 0.00117707; step 0.0436476\n",
      "39:  |F(x)| = 0.00112296; step 0.0458156\n",
      "40:  |F(x)| = 0.0010685; step 0.048338\n",
      "41:  |F(x)| = 0.00102453; step 0.0512743\n",
      "42:  |F(x)| = 0.00102118; step 0.0547092\n",
      "43:  |F(x)| = 0.00101499; step 0.0587499\n",
      "44:  |F(x)| = 0.00100574; step 0.0635482\n",
      "45:  |F(x)| = 0.000993113; step 0.0693056\n",
      "46:  |F(x)| = 0.000976687; step 0.076312\n",
      "47:  |F(x)| = 0.000955872; step 0.0850005\n",
      "48:  |F(x)| = 0.0010017; step 0.1711\n",
      "49:  |F(x)| = 0.000977867; step 0.180974\n",
      "50:  |F(x)| = 0.000911354; step 0.207964\n",
      "51:  |F(x)| = 0.000807632; step 0.271372\n",
      "52:  |F(x)| = 0.000647892; step 0.426889\n",
      "53:  |F(x)| = 0.000324548; step 1\n",
      "54:  |F(x)| = 3.14415e-08; step 1\n"
     ]
    },
    {
     "data": {
      "text/plain": [
       "(array([553.79859438,  11.04398976]), 1333.098505604007)"
      ]
     },
     "execution_count": 33,
     "metadata": {},
     "output_type": "execute_result"
    }
   ],
   "source": [
    "sol = so.newton_krylov(f, st, method= 'lgmres', inner_maxiter= 10 ,outer_k= 3, verbose = 1, line_search= 'wolfe')\n",
    "sol, lmax\n",
    "#print(lmax)"
   ]
  }
 ],
 "metadata": {
  "hide_input": false,
  "kernelspec": {
   "display_name": "Python 3",
   "language": "python",
   "name": "python3"
  },
  "language_info": {
   "codemirror_mode": {
    "name": "ipython",
    "version": 3
   },
   "file_extension": ".py",
   "mimetype": "text/x-python",
   "name": "python",
   "nbconvert_exporter": "python",
   "pygments_lexer": "ipython3",
   "version": "3.8.10"
  },
  "latex_envs": {
   "LaTeX_envs_menu_present": true,
   "autoclose": false,
   "autocomplete": true,
   "bibliofile": "biblio.bib",
   "cite_by": "apalike",
   "current_citInitial": 1,
   "eqLabelWithNumbers": true,
   "eqNumInitial": 1,
   "hotkeys": {
    "equation": "Ctrl-E",
    "itemize": "Ctrl-I"
   },
   "labels_anchors": false,
   "latex_user_defs": false,
   "report_style_numbering": false,
   "user_envs_cfg": false
  },
  "toc": {
   "base_numbering": 1,
   "nav_menu": {},
   "number_sections": true,
   "sideBar": true,
   "skip_h1_title": false,
   "title_cell": "Table of Contents",
   "title_sidebar": "Contents",
   "toc_cell": false,
   "toc_position": {},
   "toc_section_display": true,
   "toc_window_display": false
  },
  "varInspector": {
   "cols": {
    "lenName": 16,
    "lenType": 16,
    "lenVar": 40
   },
   "kernels_config": {
    "python": {
     "delete_cmd_postfix": "",
     "delete_cmd_prefix": "del ",
     "library": "var_list.py",
     "varRefreshCmd": "print(var_dic_list())"
    },
    "r": {
     "delete_cmd_postfix": ") ",
     "delete_cmd_prefix": "rm(",
     "library": "var_list.r",
     "varRefreshCmd": "cat(var_dic_list()) "
    }
   },
   "position": {
    "height": "144px",
    "left": "314px",
    "right": "20px",
    "top": "120px",
    "width": "350px"
   },
   "types_to_exclude": [
    "module",
    "function",
    "builtin_function_or_method",
    "instance",
    "_Feature"
   ],
   "window_display": false
  }
 },
 "nbformat": 4,
 "nbformat_minor": 4
}
