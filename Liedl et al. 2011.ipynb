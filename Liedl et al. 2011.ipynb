{
 "cells": [
  {
   "cell_type": "code",
   "execution_count": 7,
   "metadata": {
    "ExecuteTime": {
     "end_time": "2020-06-04T23:47:17.168858Z",
     "start_time": "2020-06-04T23:47:16.592895Z"
    }
   },
   "outputs": [],
   "source": [
    "import numpy as np\n",
    "import matplotlib.pyplot as plt \n",
    "from scipy import optimize \n",
    "from scipy.special import erf\n",
    "BOLD = '\\033[1m'\n"
   ]
  },
  {
   "cell_type": "code",
   "execution_count": 48,
   "metadata": {
    "ExecuteTime": {
     "end_time": "2020-06-05T00:07:38.224672Z",
     "start_time": "2020-06-05T00:07:38.214533Z"
    }
   },
   "outputs": [],
   "source": [
    "# Input\n",
    "M = 6\n",
    "W = 15  \n",
    "ath = 0.1\n",
    "atv = 0.01\n",
    "Ca = 8\n",
    "Cd = 5 \n",
    "Ct = 0.0\n",
    "ga = 3.5"
   ]
  },
  {
   "cell_type": "code",
   "execution_count": 44,
   "metadata": {
    "ExecuteTime": {
     "end_time": "2020-06-05T00:06:58.245258Z",
     "start_time": "2020-06-05T00:06:58.218034Z"
    },
    "code_folding": []
   },
   "outputs": [
    {
     "name": "stdout",
     "output_type": "stream",
     "text": [
      "\u001b[1mThe main functions\n"
     ]
    }
   ],
   "source": [
    "#Main code\n",
    "\n",
    "def f_lm(x): # Liedl 2011- f(x) = 0\n",
    "    return erf(W/(np.sqrt(4*ath*x)))*np.exp(-atv*x*(np.pi/(2*M))**2)-(np.pi/4)*((ga*Ct+Ca)/(ga*Cd + Ca)) \n",
    "\n",
    "def df_lm(x): # FD estimate df\n",
    "    h = 1e-4\n",
    "    return (f_lm(x+h) - f_lm(x-h))/(2*h)\n",
    "\n",
    "def df_lm1(x): # exact df\n",
    "    return -W/(2*x*np.sqrt(np.pi)*np.sqrt(atv*x))*np.exp(-(W**2)/(4*atv*x))*np.exp(-(np.pi**2*atv*x)/(4*M**2)) \\\n",
    "        - (1/(4*M**2))*np.pi**2*atv*np.exp((-np.pi**2*atv*x)/(4*M**2))*erf(W/(2*np.sqrt(atv*x)))  \n",
    "\n",
    "def NR(x): # Newton Raphson simulation using FD\n",
    "    iterat = 0\n",
    "    tol = 1e-06\n",
    "    h = f_lm(x)/df_lm(x)\n",
    "    print(\"Iter. Nr \",\"\", \"Lmax\",\"       \" , \" Residual\")\n",
    "    print('-'*35)   \n",
    "    \n",
    "    while abs(h)>= tol:\n",
    "        h = f_lm(x)/df_lm(x) \n",
    "        x = x - h\n",
    "        iterat+= 1 \n",
    "        print(\" \",iterat,  \"    \" , \"%.4f \"% x, \"   \" , \"%.2e \" %  h) \n",
    "        \n",
    "def NR1(x): # Newton Raphson simulation using exact df\n",
    "    iterat = 0\n",
    "    tol = 1e-06\n",
    "    h = f_lm(x)/df_lm1(x)\n",
    "    print(\"Iter. Nr \",\"\", \"Lmax\",\"       \" , \" Residual\")\n",
    "    print('-'*35)  \n",
    "    \n",
    "    while abs(h)>= tol:\n",
    "        h = f_lm(x)/df_lm1(x) \n",
    "        x = x - h\n",
    "        iterat+= 1\n",
    "        print(\" \",iterat,  \"    \" , \"%.4f \"% x, \"   \" , \"%.2e \" %  h)\n",
    "\n",
    "print(\"{}The main functions\".format(BOLD))"
   ]
  },
  {
   "cell_type": "code",
   "execution_count": 50,
   "metadata": {
    "ExecuteTime": {
     "end_time": "2020-06-05T00:07:52.874805Z",
     "start_time": "2020-06-05T00:07:52.693813Z"
    },
    "code_folding": []
   },
   "outputs": [
    {
     "name": "stdout",
     "output_type": "stream",
     "text": [
      "\u001b[1mThe f(x) = 0 plot\n"
     ]
    },
    {
     "data": {
      "image/png": "[encoded data removed]",
      "text/plain": [
       "<Figure size 432x288 with 1 Axes>"
      ]
     },
     "metadata": {
      "needs_background": "light"
     },
     "output_type": "display_data"
    }
   ],
   "source": [
    "#f(x) = 0 Plot\n",
    "print(\"{}The f(x) = 0 plot\".format(BOLD))\n",
    "x = np.linspace(1,5100, 1500)\n",
    "y = f_lm(x)\n",
    "plt.plot(x,y) \n",
    "plt.grid() \n",
    "plt.xlabel(r\"$L_{max}$, m\");\n",
    "plt.ylabel(r\"$f(x) = 0$\");"
   ]
  },
  {
   "cell_type": "code",
   "execution_count": 51,
   "metadata": {
    "ExecuteTime": {
     "end_time": "2020-06-05T00:07:57.189290Z",
     "start_time": "2020-06-05T00:07:57.176944Z"
    },
    "code_folding": [
     0
    ]
   },
   "outputs": [
    {
     "name": "stdout",
     "output_type": "stream",
     "text": [
      "\u001b[1m\n",
      "The minimum starting value 1021.90 m\n",
      "The maximum starting value 2043.80 m\n",
      "The initial value is 2043.80 m\n"
     ]
    }
   ],
   "source": [
    "# starting value\n",
    "print(\"{}\".format(BOLD))\n",
    "Cf = (ga*Ct+Ca)/(ga*Cd+Ca)\n",
    "\n",
    "ma_1 = -1/(np.pi*(ath/W**2)*np.log(1-0.25*np.pi*(Cf)))   \n",
    "ma_2 = -2/(np.pi**2*(atv/M**2))*np.log(0.25*np.pi*(Cf))\n",
    "ma_3 = 4/np.pi**2*(M**2/atv)*np.log(4/(np.pi*Cf)) # Liedl et al. 2005\n",
    "\n",
    "min_x0 = np.minimum(ma_1, ma_2) # min starting value\n",
    "max_x0 = np.minimum(np.maximum(ma_2, ma_3), ma_1)\n",
    "\n",
    "print(\"The minimum starting value {0:2.2f} m\".format(min_x0)) \n",
    "print(\"The maximum starting value {0:2.2f} m\".format(max_x0))\n",
    " \n",
    "if max_x0 == ma_3:\n",
    "    print(\"The initial value is {0:2.2f} m\".format(max_x0))\n",
    "    x0 = max_x0\n",
    "else:\n",
    "    print(\"The initial value is {0:2.2f} m\".format(min_x0))\n",
    "    x0 = min_x0 \n",
    "    "
   ]
  },
  {
   "cell_type": "code",
   "execution_count": 52,
   "metadata": {
    "ExecuteTime": {
     "end_time": "2020-06-05T00:08:08.510108Z",
     "start_time": "2020-06-05T00:08:08.485235Z"
    },
    "code_folding": [
     0
    ]
   },
   "outputs": [
    {
     "name": "stdout",
     "output_type": "stream",
     "text": [
      "\u001b[1mResult with estimated differntial\n",
      "Iter. Nr   Lmax          Residual\n",
      "-----------------------------------\n",
      "  1      1390.8164      6.53e+02 \n",
      "  2      1379.8435      1.10e+01 \n",
      "  3      1378.4685      1.37e+00 \n",
      "  4      1378.2946      1.74e-01 \n",
      "  5      1378.2726      2.20e-02 \n",
      "  6      1378.2698      2.79e-03 \n",
      "  7      1378.2694      3.53e-04 \n",
      "  8      1378.2694      4.47e-05 \n",
      "  9      1378.2694      5.67e-06 \n",
      "  10      1378.2694      7.18e-07 \n",
      "\n",
      "Result with exact differntial\n",
      "Iter. Nr   Lmax          Residual\n",
      "-----------------------------------\n",
      "  1      1092.0583      9.52e+02 \n",
      "  2      1335.5086      -2.43e+02 \n",
      "  3      1377.2657      -4.18e+01 \n",
      "  4      1378.2688      -1.00e+00 \n",
      "  5      1378.2694      -5.58e-04 \n",
      "  6      1378.2694      -1.72e-10 \n",
      "\n",
      "Result with Scipy code using SECANT method\n",
      "The Lmax is 1378.269 m\n"
     ]
    }
   ],
   "source": [
    "# Results\n",
    "BOLD = '\\033[1m'\n",
    "\n",
    "print(\"{}Result with estimated differntial\".format(BOLD)) \n",
    "NR1(x0) # simulations using exact differential\n",
    "print()\n",
    "\n",
    "print(\"Result with exact differntial\")\n",
    "NR(x0)   # simulations using approximated differential \n",
    "print()\n",
    "\n",
    "print(\"Result with Scipy code using SECANT method\")\n",
    "secant= optimize.newton(f_lm, x0)  # simulation using secant method\n",
    "print(\"The Lmax is {0:2.3f} m\".format(secant)) "
   ]
  },
  {
   "cell_type": "code",
   "execution_count": null,
   "metadata": {},
   "outputs": [],
   "source": []
  }
 ],
 "metadata": {
  "hide_input": false,
  "kernelspec": {
   "display_name": "Python 3",
   "language": "python",
   "name": "python3"
  },
  "language_info": {
   "codemirror_mode": {
    "name": "ipython",
    "version": 3
   },
   "file_extension": ".py",
   "mimetype": "text/x-python",
   "name": "python",
   "nbconvert_exporter": "python",
   "pygments_lexer": "ipython3",
   "version": "3.7.6"
  },
  "latex_envs": {
   "LaTeX_envs_menu_present": true,
   "autoclose": false,
   "autocomplete": true,
   "bibliofile": "biblio.bib",
   "cite_by": "apalike",
   "current_citInitial": 1,
   "eqLabelWithNumbers": true,
   "eqNumInitial": 1,
   "hotkeys": {
    "equation": "Ctrl-E",
    "itemize": "Ctrl-I"
   },
   "labels_anchors": false,
   "latex_user_defs": false,
   "report_style_numbering": false,
   "user_envs_cfg": false
  },
  "varInspector": {
   "cols": {
    "lenName": 16,
    "lenType": 16,
    "lenVar": 40
   },
   "kernels_config": {
    "python": {
     "delete_cmd_postfix": "",
     "delete_cmd_prefix": "del ",
     "library": "var_list.py",
     "varRefreshCmd": "print(var_dic_list())"
    },
    "r": {
     "delete_cmd_postfix": ") ",
     "delete_cmd_prefix": "rm(",
     "library": "var_list.r",
     "varRefreshCmd": "cat(var_dic_list()) "
    }
   },
   "types_to_exclude": [
    "module",
    "function",
    "builtin_function_or_method",
    "instance",
    "_Feature"
   ],
   "window_display": false
  }
 },
 "nbformat": 4,
 "nbformat_minor": 4
}
