{
 "cells": [
  {
   "cell_type": "code",
   "execution_count": 1,
   "metadata": {
    "ExecuteTime": {
     "end_time": "2022-05-20T22:30:43.910176Z",
     "start_time": "2022-05-20T22:30:43.897096Z"
    },
    "hide_input": false
   },
   "outputs": [],
   "source": [
    "from sympy import erf, sqrt, exp, symbols, diff, init_printing, pi\n",
    "import matplotlib.pyplot as plt \n",
    "import scipy.optimize as so \n",
    "#import numpy as np \n",
    "import scipy.special as ss\n",
    "#init_printing() "
   ]
  },
  {
   "cell_type": "markdown",
   "metadata": {},
   "source": [
    "## Wmax\n",
    "\n",
    "+ for maximum plume length y = 0 \n",
    "+ erf$(x)$ is in scipy.special -have to be imported from there\n",
    "+ erf$(x)$ is also a part of sympy function.\n",
    "+ erf$(-x)$ = -erf$(x)$: It is an odd function\n",
    "\n",
    "We begin with eq (9) of the WRR (2011) paper, which is\n",
    "\n",
    "$$\n",
    "C(x, y, z) =\n",
    "\\frac{2}{\\pi} (\\gamma C_D^\\circ + C_A^\\circ) \\bigg[\\text{erf}\\bigg(\\frac{y+W}{\\sqrt{4\\alpha_{Th}x}}\\bigg) -  \\text{erf}\\bigg(\\frac{y-W}{\\sqrt{4\\alpha_{Th}x}}\\bigg)\\bigg ]\\\\\n",
    "\\cdot\\sum_{n=1}^{\\infty} \\frac{1}{(2n-1)} e^{\\big(-\\alpha_{Tv}\\,x\\,(\\pi/2M)^2\\big) }\\sin\\Big((2n-1)\\frac{\\pi z}{2 M}\\Big)\\\\ - C_A^\\circ -C^\\ast = 0\n",
    "\\label{eq1}\n",
    "$$\n",
    "\n",
    "\n",
    "Let  $ A=  (\\gamma C_D^\\circ + C_A^\\circ) $, $n= 1$ and $z = M$, eq $\\ref{eq1}$ then becomes\n",
    "\n",
    "$$\n",
    "C(x, y, M) =\n",
    "\\frac{2}{\\pi} A \\bigg[\\text{erf}\\bigg(\\frac{y+W}{\\sqrt{4\\alpha_{Th}x}}\\bigg) -  \\text{erf}\\bigg(\\frac{y-W}{\\sqrt{4\\alpha_{Th}x}}\\bigg)\\bigg ]\\\\\n",
    "\\cdot e^{\\big(-\\alpha_{Tv}\\,x\\,(\\pi/2M)^2\\big) } \\sin\\Big(\\frac{\\pi}{2}\\Big)- C_A^\\circ - C^\\ast = 0\n",
    "\\label{eq2}\n",
    "$$\n",
    "\n",
    "$\\sin(\\pi/2) = 1$, so eq $\\ref{eq2}$ becomes\n",
    "\n",
    "$$\n",
    "C(x, y, M) =\n",
    "\\frac{2}{\\pi} A \\bigg[\\text{erf}\\bigg(\\frac{y+W}{\\sqrt{4\\alpha_{Th}x}}\\bigg) -  \\text{erf}\\bigg(\\frac{y-W}{\\sqrt{4\\alpha_{Th}x}}\\bigg)\\bigg ]\\\\\n",
    "\\cdot e^{\\big(-\\alpha_{Tv}\\,x\\,(\\pi/2M)^2\\big)}- C_A^\\circ- C^\\ast = 0\n",
    "\\label{eq3}\n",
    "$$\n",
    "\n",
    "Let $ B = \\frac{\\pi^2}{4M^2}\\alpha_{Tv}$ and let $D =(C_A^\\circ + C^\\ast)$ then eq $\\ref{eq3}$ becomes\n",
    "\n",
    "$$\n",
    "C(x, y, M) =\n",
    "\\frac{2}{\\pi} A \\bigg[\\text{erf}\\bigg(\\frac{y+W}{\\sqrt{4\\alpha_{Th}x}}\\bigg) -  \\text{erf}\\bigg(\\frac{y-W}{\\sqrt{4\\alpha_{Th}x}}\\bigg)\\bigg ]\\\\\n",
    "\\cdot e^{(-B x)}- D = 0\n",
    "\\label{eq4}\n",
    "$$\n",
    "\n",
    "Eq. \\eqref{eq4} can be rewritten as:\n",
    "\n",
    "$$\n",
    "\\frac{2}{\\pi} A \\bigg[\\text{erf}\\bigg(\\frac{y+W}{\\sqrt{4\\alpha_{Th}x}}\\bigg) -  \\text{erf}\\bigg(\\frac{y-W}{\\sqrt{4\\alpha_{Th}x}}\\bigg)\\bigg ]\\\\\n",
    "\\cdot e^{(-B x)} =  D\n",
    "\\label{eq5}\n",
    "$$"
   ]
  },
  {
   "cell_type": "code",
   "execution_count": 2,
   "metadata": {
    "ExecuteTime": {
     "end_time": "2022-05-20T22:30:47.186408Z",
     "start_time": "2022-05-20T22:30:47.182354Z"
    },
    "run_control": {
     "marked": true
    }
   },
   "outputs": [],
   "source": [
    "x,y,M, W, ath, A, B, D =symbols('x, y, M, W, ath, A, B, D')  "
   ]
  },
  {
   "cell_type": "code",
   "execution_count": 3,
   "metadata": {
    "ExecuteTime": {
     "end_time": "2022-05-20T22:29:07.573848Z",
     "start_time": "2022-05-20T22:29:07.379307Z"
    },
    "run_control": {
     "marked": true
    }
   },
   "outputs": [
    {
     "data": {
      "text/latex": [
       "$\\displaystyle \\frac{2 A \\left(- \\operatorname{erf}{\\left(\\frac{- W + y}{2 \\sqrt{ath x}} \\right)} + \\operatorname{erf}{\\left(\\frac{W + y}{2 \\sqrt{ath x}} \\right)}\\right) e^{- B x}}{\\pi} - D$"
      ],
      "text/plain": [
       "2*A*(-erf((-W + y)/(2*sqrt(ath*x))) + erf((W + y)/(2*sqrt(ath*x))))*exp(-B*x)/pi - D"
      ]
     },
     "execution_count": 3,
     "metadata": {},
     "output_type": "execute_result"
    }
   ],
   "source": [
    "eq4 = 2/pi*A*(erf((y+W)/sqrt(4*ath*x))-erf((y-W)/sqrt(4*ath*x)))*exp(-B*x)- D\n",
    "eq4 "
   ]
  },
  {
   "cell_type": "markdown",
   "metadata": {
    "hide_input": false
   },
   "source": [
    "The total derivative of left side of  eq $\\eqref{eq4}$, with respect to $x$ is \n",
    "$$\n",
    "\\frac{\\partial C (x,y,M)}{\\partial x} = \\frac{\\partial C (x)}{\\partial x}\\frac{dx}{dx} + \\frac{\\partial C (y)}{\\partial y} \\frac{dy}{dx}+\\frac{\\partial C (M)}{\\partial M} \\frac{dM}{dx}\n",
    "\\label{eq6}\n",
    "$$\n",
    "\n",
    "in which $M$ is invariant with respect to $x$, so $\\frac{dM}{dx} = 0$ and as a requirement for the maximum width, which is along $y$, $\\frac{dy}{dx} = 0$ has to be set. Thus, we have  only $\\frac{\\partial C (x)}{\\partial x}$, unsolved left in $\\eqref{eq5}$. Next, we obtain that "
   ]
  },
  {
   "cell_type": "code",
   "execution_count": 4,
   "metadata": {
    "ExecuteTime": {
     "end_time": "2022-05-20T22:29:13.025081Z",
     "start_time": "2022-05-20T22:29:12.968111Z"
    },
    "hide_input": false,
    "run_control": {
     "marked": true
    }
   },
   "outputs": [
    {
     "data": {
      "text/latex": [
       "$\\displaystyle - \\frac{2 A B \\left(- \\operatorname{erf}{\\left(\\frac{- W + y}{2 \\sqrt{ath x}} \\right)} + \\operatorname{erf}{\\left(\\frac{W + y}{2 \\sqrt{ath x}} \\right)}\\right) e^{- B x}}{\\pi} + \\frac{2 A \\left(\\frac{\\left(- W + y\\right) e^{- \\frac{\\left(- W + y\\right)^{2}}{4 ath x}}}{2 \\sqrt{\\pi} x \\sqrt{ath x}} - \\frac{\\left(W + y\\right) e^{- \\frac{\\left(W + y\\right)^{2}}{4 ath x}}}{2 \\sqrt{\\pi} x \\sqrt{ath x}}\\right) e^{- B x}}{\\pi}$"
      ],
      "text/plain": [
       "-2*A*B*(-erf((-W + y)/(2*sqrt(ath*x))) + erf((W + y)/(2*sqrt(ath*x))))*exp(-B*x)/pi + 2*A*((-W + y)*exp(-(-W + y)**2/(4*ath*x))/(2*sqrt(pi)*x*sqrt(ath*x)) - (W + y)*exp(-(W + y)**2/(4*ath*x))/(2*sqrt(pi)*x*sqrt(ath*x)))*exp(-B*x)/pi"
      ]
     },
     "execution_count": 4,
     "metadata": {},
     "output_type": "execute_result"
    }
   ],
   "source": [
    "eq6 = diff(eq4, x) # dc/dx\n",
    "eq6 "
   ]
  },
  {
   "cell_type": "markdown",
   "metadata": {
    "hide_input": true
   },
   "source": [
    "$$\n",
    "-\\frac{2 A B \\left(- \\text{erf}{\\left (\\frac{- W + y}{2 \\sqrt{ath x}} \\right )} + \\text{erf}{\\left (\\frac{W + y}{2 \\sqrt{ath x}} \\right )}\\right) e^{(- B x)}}{\\pi} + \n",
    "\\\\\n",
    "\\frac{2 A \\left(\\frac{\\left(- \\frac{W}{2} + \\frac{y}{2}\\right) \\exp\\big({- \\frac{\\left(- W + y\\right)^{2}}{4 ath x}}\\big)}{\\sqrt{\\pi} x \\sqrt{ath x}} - \\frac{\\left(\\frac{W}{2} + \\frac{y}{2}\\right) \\exp\\big(- \\frac{\\left(W + y\\right)^{2}}{4 ath x}\\big)}{\\sqrt{\\pi} x \\sqrt{ath x}}\\right) e^{(- B x)}}{\\pi} = 0\n",
    "\\label{eq7}\n",
    "$$"
   ]
  },
  {
   "cell_type": "markdown",
   "metadata": {},
   "source": [
    "Using eq $\\eqref{eq5}$, eq $\\eqref{eq7}$ can be simplified to\n",
    "\n",
    "$$\n",
    "-B D +\\frac{2 A }{\\pi}\\left(\\frac{\\left(- \\frac{W}{2} + \\frac{y}{2}\\right) e^{- \\frac{\\left(- W + y\\right)^{2}}{4 ath x}}}{\\sqrt{\\pi} x \\sqrt{ath x}} - \\frac{\\left(\\frac{W}{2} + \\frac{y}{2}\\right) e^{- \\frac{\\left(W + y\\right)^{2}}{4 ath x}}}{\\sqrt{\\pi} x \\sqrt{ath x}}\\right) e^{(- B x)}=0\n",
    "\\label{eq8}\n",
    "$$"
   ]
  },
  {
   "cell_type": "markdown",
   "metadata": {},
   "source": [
    "Eq. $\\eqref{eq4}$ and eq. $\\eqref{eq8}$ are two identical non-linear equations with two unknowns ($x$ and $y$).  Simultaneous solution of these two equations will provide the co-ordinate of the position of maximum width. \n",
    "\n",
    "**Solving strategy**\n",
    "\n",
    "Numerical methods has to be applied. Good initial value can be $x= L/2$ and $y = W$. These can be obtained from the 3D model. Numerical methods to check:\n",
    "\n",
    "1. **Sympy** based Symbolic algorithms <mark>_**solve**_</mark> and <mark>_**nsolve**_</mark> algorithms (check flags, e.g. Force= True, manual = True etc). This can provide a direct solution.  \n",
    "2. **Scipy** algorithms <mark>_**fsolve**_</mark>, <mark>_**root**_</mark> and non-linear solvers: <mark>_**Newton Krylov (JFNK)**_</mark> method, <mark>_**Broyden1**_</mark> method. \n",
    "\n",
    "\n"
   ]
  },
  {
   "cell_type": "markdown",
   "metadata": {},
   "source": [
    "## Important points for solving non-linear algebraic system\n",
    "\n",
    "1. **Bisection method** used in solving an univariate non-linear equation; do not have an equivalent for non-linear system.\n",
    "\n",
    "2. **Newton method** is generalized to the multivariate equation system.\n",
    "In this case the iteration formula is $x_{k+1} = x_k - J_f(x_k)^{-1}f(x_k)$ \n",
    "\n",
    "> where $J_f(x_k)$ is the Jacobian matrix of function $f(x)$\n",
    "\n",
    "> Instead of inverting the Jacobian it is sufficient to solve the linear equation system using $J_f(x_k)\\delta x_k = -f(x_k)$, and update $x_k$ using $x_{k+1} = x_k + \\delta x_k$\n",
    "\n",
    "3. **Secant Method** for an univariate system has several variants for multivariate system, in which computing Jacobian is avoided.\n",
    "\n",
    "> Broyden's method is a popular secant method for multivariate system\n",
    "\n",
    "## Python Codes\n",
    "### Library: `Scipy.optimize`\n",
    "### Functions: `fsolve` (general), `broyden1` and `broyden2`.\n",
    "\n",
    "The functions general arguments are: f(*equation array*, *initial guess*). *fprime* is optional argument in `fsolve` function that is used for calculating Jacobian of $f(x)$  "
   ]
  },
  {
   "cell_type": "markdown",
   "metadata": {},
   "source": [
    "### The equations to solve \n",
    "\n",
    "$$\n",
    "\\frac{2}{\\pi} A \\bigg[\\text{erf}\\bigg(\\frac{y+W}{\\sqrt{4\\alpha_{Th}\\,x}}\\bigg) -  \\text{erf}\\bigg(\\frac{y-W}{\\sqrt{4\\alpha_{Th}\\,x}}\\bigg)\\bigg ]\\\\\n",
    "\\cdot e^{(- B x)}- D = 0\n",
    "$$\n",
    "\n",
    "$$\n",
    "-B D +\\frac{2 A }{\\pi}\\left(\\frac{\\left(- \\frac{W}{2} + \\frac{y}{2}\\right) e^{- \\frac{\\left(- W + y\\right)^{2}}{4 ath \\,x}}}{\\sqrt{\\pi} x \\sqrt{ath\\,x}} - \\frac{\\left(\\frac{W}{2} + \\frac{y}{2}\\right) e^{- \\frac{\\left(W + y\\right)^{2}}{4 ath x}}}{\\sqrt{\\pi} x \\sqrt{ath \\,x}}\\right) e^{(- B x)}=0\n",
    "$$"
   ]
  },
  {
   "cell_type": "code",
   "execution_count": 5,
   "metadata": {
    "ExecuteTime": {
     "end_time": "2022-05-20T22:29:37.855956Z",
     "start_time": "2022-05-20T22:29:37.837174Z"
    }
   },
   "outputs": [],
   "source": [
    "import numpy as np\n",
    "\n",
    "# input value\n",
    "\n",
    "W = 2 # Width\n",
    "M = 1 # Thickness\n",
    "ath = 0.01 # transverse horizontal disp.\n",
    "atv = 0.001 # transverse vertical disp.\n",
    "Cd = 5 # donor conc.\n",
    "Ca = 8 # acceptor conc.\n",
    "Ct = 0 # thereshold conc.\n",
    "ga = 3.5 # gamma\n",
    "#intermediate values\n",
    "\n",
    "A =  (ga*Cd+Ca)\n",
    "B = (np.pi**2*atv)/(4*M**2)\n",
    "D = Ca+Ct\n",
    "\n",
    "# initial guess\n",
    "x_s = 3000 # Lmax/2, with Lmax obtained from 3D solution \n",
    "y_s = 2*W # arbitary 2*W is placed\n",
    "\n",
    "st = [x_s, y_s]"
   ]
  },
  {
   "cell_type": "code",
   "execution_count": 6,
   "metadata": {
    "ExecuteTime": {
     "end_time": "2022-05-20T22:29:40.506123Z",
     "start_time": "2022-05-20T22:29:40.491811Z"
    }
   },
   "outputs": [],
   "source": [
    "def f(x):\n",
    "    return [(2*A)/(np.pi)*(ss.erf((x[1]+W)/(np.sqrt(4*ath*x[0])))-ss.erf((x[1]-W)/(np.sqrt(4*ath*x[0]))))*np.exp(-B*x[0])-D, \n",
    "            -B*D + (2*A)/np.pi*np.exp(-B*x[0])*((((-W/2 + x[1]/2)*np.exp(-(x[1]-W)**2/(4*ath*x[0])))/(x[0]*np.sqrt(np.pi*ath*x[0]))) - (((W/2 + x[1]/2)*np.exp(-(x[1]+W)**2/(4*ath*x[0])))/(x[0]*np.sqrt(np.pi*ath*x[0]))))]"
   ]
  },
  {
   "cell_type": "code",
   "execution_count": null,
   "metadata": {},
   "outputs": [],
   "source": [
    "so.fsolve(f, st, xtol=1.0e-06, maxfev=5000) # hybrid method from MINPACK"
   ]
  },
  {
   "cell_type": "code",
   "execution_count": null,
   "metadata": {},
   "outputs": [],
   "source": [
    "so.root(f, st, method=\"lm\", options={\"xtol\": 1.0e-08}) # Levenberg-Marquardt"
   ]
  },
  {
   "cell_type": "code",
   "execution_count": null,
   "metadata": {},
   "outputs": [],
   "source": [
    "so.root(f, st, method=\"hybr\", options={\"xtol\": 1.0e-06})"
   ]
  },
  {
   "cell_type": "code",
   "execution_count": null,
   "metadata": {},
   "outputs": [],
   "source": [
    "so.root(f,st, method=\"broyden1\", options={\"xtol\": 1.0e-02})"
   ]
  },
  {
   "cell_type": "code",
   "execution_count": null,
   "metadata": {},
   "outputs": [],
   "source": [
    "so.root(f,st, method=\"broyden2\", options={\"xtol\": 1.0e-02})"
   ]
  }
 ],
 "metadata": {
  "hide_input": false,
  "kernelspec": {
   "display_name": "Python 3 (ipykernel)",
   "language": "python",
   "name": "python3"
  },
  "language_info": {
   "codemirror_mode": {
    "name": "ipython",
    "version": 3
   },
   "file_extension": ".py",
   "mimetype": "text/x-python",
   "name": "python",
   "nbconvert_exporter": "python",
   "pygments_lexer": "ipython3",
   "version": "3.8.8"
  },
  "latex_envs": {
   "LaTeX_envs_menu_present": false,
   "autoclose": false,
   "autocomplete": false,
   "bibliofile": "biblio.bib",
   "cite_by": "apalike",
   "current_citInitial": 1,
   "eqLabelWithNumbers": true,
   "eqNumInitial": 1,
   "hotkeys": {
    "equation": "Ctrl-E",
    "itemize": "Ctrl-I"
   },
   "labels_anchors": false,
   "latex_user_defs": false,
   "report_style_numbering": false,
   "user_envs_cfg": false
  },
  "toc": {
   "base_numbering": 1,
   "nav_menu": {},
   "number_sections": true,
   "sideBar": true,
   "skip_h1_title": false,
   "title_cell": "Table of Contents",
   "title_sidebar": "Contents",
   "toc_cell": false,
   "toc_position": {},
   "toc_section_display": true,
   "toc_window_display": false
  },
  "varInspector": {
   "cols": {
    "lenName": 16,
    "lenType": 16,
    "lenVar": 40
   },
   "kernels_config": {
    "python": {
     "delete_cmd_postfix": "",
     "delete_cmd_prefix": "del ",
     "library": "var_list.py",
     "varRefreshCmd": "print(var_dic_list())"
    },
    "r": {
     "delete_cmd_postfix": ") ",
     "delete_cmd_prefix": "rm(",
     "library": "var_list.r",
     "varRefreshCmd": "cat(var_dic_list()) "
    }
   },
   "position": {
    "height": "475.2px",
    "left": "749px",
    "right": "20px",
    "top": "130px",
    "width": "405.4px"
   },
   "types_to_exclude": [
    "module",
    "function",
    "builtin_function_or_method",
    "instance",
    "_Feature"
   ],
   "window_display": false
  }
 },
 "nbformat": 4,
 "nbformat_minor": 4
}
