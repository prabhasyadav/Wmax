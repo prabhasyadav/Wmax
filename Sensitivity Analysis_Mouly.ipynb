{
 "cells": [
  {
   "cell_type": "code",
   "execution_count": 1,
   "metadata": {},
   "outputs": [],
   "source": [
    "from sympy import *\n",
    "import numpy as np\n",
    "import matplotlib.pyplot as plt\n",
    "plt.style.use(\"ggplot\")\n",
    "init_printing(use_unicode=True)\n",
    "%matplotlib inline"
   ]
  },
  {
   "cell_type": "markdown",
   "metadata": {},
   "source": [
    "**Local Sensitivity Analysis** - It is a method to investigates the effect of small change in a parameter (input) of a model to its output (result). Mathematically this is:\n",
    "$$\n",
    "\\frac{\\frac{\\Delta R}{R}}{\\frac{\\Delta P_i}{P_i}} = \\frac{\\Delta R}{\\Delta P_i}\\frac{P_i}{R}  \n",
    "$$\n",
    "\n",
    "Where $R$ is result or output, $P_i$ is parameter with subscript representing $i$-parameter. Since a small change in the parameter is to be considered, the limiting value can be considered, i,e, $\\lim_{P_i\\to 0}$. This makes the above equation an ODE, which for the right side is:\n",
    "$$\n",
    "\\frac{d R}{dP_i}\\frac{P_i}{R}  \n",
    "$$\n",
    "\n",
    "Solving the ODE and multiplying by factor $\\frac{P_i}{R}$ provides the sensitivity of the model with respect to parameter $P_i$.\n",
    "\n",
    "Below we perform the above operations for our fit-model (S-shaped)\n"
   ]
  },
  {
   "cell_type": "code",
   "execution_count": 2,
   "metadata": {},
   "outputs": [
    {
     "data": {
      "image/png": "[encoded data removed]",
      "text/latex": [
       "$$A_{2} + \\left(A_{1} - A_{2}\\right) \\left(\\frac{x}{xo} + 1\\right)^{- p}$$"
      ],
      "text/plain": [
       "                       -p\n",
       "               ⎛x     ⎞  \n",
       "A₂ + (A₁ - A₂)⋅⎜── + 1⎟  \n",
       "               ⎝xo    ⎠  "
      ]
     },
     "execution_count": 2,
     "metadata": {},
     "output_type": "execute_result"
    }
   ],
   "source": [
    "x,xo, A1, A2, p = symbols('x,xo, A1, A2, p')\n",
    "eqn = A2+(A1-A2)/(1+x/xo)**p # this is our flux model\n",
    "eqn"
   ]
  },
  {
   "cell_type": "code",
   "execution_count": 3,
   "metadata": {},
   "outputs": [
    {
     "data": {
      "image/png": "[encoded data removed]",
      "text/latex": [
       "$$1 - \\left(\\frac{x}{xo} + 1\\right)^{- p}$$"
      ],
      "text/plain": [
       "            -p\n",
       "    ⎛x     ⎞  \n",
       "1 - ⎜── + 1⎟  \n",
       "    ⎝xo    ⎠  "
      ]
     },
     "execution_count": 3,
     "metadata": {},
     "output_type": "execute_result"
    }
   ],
   "source": [
    "S_A2 = diff(eqn, A2) # we differentiate R (flux) wrt A2\n",
    "S_A2"
   ]
  },
  {
   "cell_type": "markdown",
   "metadata": {},
   "source": [
    "Now we need to choose fixed values for $x$, $x_o$ and $p$ and letting $P_i/R$ be the original value. Let $x = 10$, $x_o = 5$, $p = 0.967$ and let $P_i/R = 1/10$"
   ]
  },
  {
   "cell_type": "code",
   "execution_count": 4,
   "metadata": {},
   "outputs": [
    {
     "data": {
      "image/png": "[encoded data removed]",
      "text/latex": [
       "$$- \\frac{0.1}{\\left(\\frac{x}{5} + 1\\right)^{0.967}} + 0.1$$"
      ],
      "text/plain": [
       "             -0.967      \n",
       "      ⎛x    ⎞            \n",
       "- 0.1⋅⎜─ + 1⎟       + 0.1\n",
       "      ⎝5    ⎠            "
      ]
     },
     "execution_count": 4,
     "metadata": {},
     "output_type": "execute_result"
    }
   ],
   "source": [
    "A2byR = 1/10        # this is Pi/R with Pi = A2 in this case. This is original value before any change. \n",
    "f_A2byR = (S_A2.subs([(xo, 5), (p, 0.967)]))*A2byR\n",
    "# For analysis, I will let x be varable and Substituted x0 = 5 and p = 0.967. You can change this value and use\n",
    "#other values. Here I am just making an example based on data you provided to me.\n",
    "\n",
    "f_A2byR\n"
   ]
  },
  {
   "cell_type": "code",
   "execution_count": 5,
   "metadata": {},
   "outputs": [
    {
     "data": {
      "text/plain": [
       "Text(0, 0.5, 'Relative flux [ ]')"
      ]
     },
     "execution_count": 5,
     "metadata": {},
     "output_type": "execute_result"
    },
    {
     "data": {
      "image/png": "[encoded data removed]",
      "text/plain": [
       "<Figure size 432x288 with 1 Axes>"
      ]
     },
     "metadata": {
      "needs_background": "light"
     },
     "output_type": "display_data"
    }
   ],
   "source": [
    "p_f_A2byR = lambdify(x, f_A2byR) #we create numbers from\n",
    "x1 = np.linspace(0,100, 1000)\n",
    "y1 = p_f_A2byR(x1)\n",
    "plt.plot(x1, y1)\n",
    "plt.title('Model Sensitivity on parameter A2')\n",
    "plt.xlabel(\"X [ ]\")\n",
    "plt.ylabel(\"Relative flux [ ]\")"
   ]
  },
  {
   "cell_type": "markdown",
   "metadata": {},
   "source": [
    "Next we do the same above exercise using other parameters. Let's say next we want to check with parameter $p$. Then first we get the differential $\\frac{dR}{dP}$ and the product $\\frac{dR}{dP}\\times p/R$. Finally functional plots. "
   ]
  },
  {
   "cell_type": "code",
   "execution_count": 6,
   "metadata": {},
   "outputs": [
    {
     "data": {
      "image/png": "[encoded data removed]",
      "text/latex": [
       "$$- \\left(A_{1} - A_{2}\\right) \\left(\\frac{x}{xo} + 1\\right)^{- p} \\log{\\left (\\frac{x}{xo} + 1 \\right )}$$"
      ],
      "text/plain": [
       "                   -p            \n",
       "           ⎛x     ⎞      ⎛x     ⎞\n",
       "-(A₁ - A₂)⋅⎜── + 1⎟  ⋅log⎜── + 1⎟\n",
       "           ⎝xo    ⎠      ⎝xo    ⎠"
      ]
     },
     "execution_count": 6,
     "metadata": {},
     "output_type": "execute_result"
    }
   ],
   "source": [
    "S_p = diff(eqn, p) # we differentiate R (flux) wrt p\n",
    "S_p"
   ]
  },
  {
   "cell_type": "markdown",
   "metadata": {},
   "source": [
    "Now you can assign different values for $A_1, A_2, x_o$ and $p$ and continue as done above."
   ]
  },
  {
   "cell_type": "code",
   "execution_count": null,
   "metadata": {},
   "outputs": [],
   "source": []
  },
  {
   "cell_type": "code",
   "execution_count": null,
   "metadata": {},
   "outputs": [],
   "source": []
  }
 ],
 "metadata": {
  "kernelspec": {
   "display_name": "Python 3",
   "language": "python",
   "name": "python3"
  },
  "language_info": {
   "codemirror_mode": {
    "name": "ipython",
    "version": 3
   },
   "file_extension": ".py",
   "mimetype": "text/x-python",
   "name": "python",
   "nbconvert_exporter": "python",
   "pygments_lexer": "ipython3",
   "version": "3.7.1"
  },
  "latex_envs": {
   "LaTeX_envs_menu_present": true,
   "autoclose": false,
   "autocomplete": true,
   "bibliofile": "biblio.bib",
   "cite_by": "apalike",
   "current_citInitial": 1,
   "eqLabelWithNumbers": true,
   "eqNumInitial": 1,
   "hotkeys": {
    "equation": "Ctrl-E",
    "itemize": "Ctrl-I"
   },
   "labels_anchors": false,
   "latex_user_defs": false,
   "report_style_numbering": false,
   "user_envs_cfg": false
  },
  "varInspector": {
   "cols": {
    "lenName": 16,
    "lenType": 16,
    "lenVar": 40
   },
   "kernels_config": {
    "python": {
     "delete_cmd_postfix": "",
     "delete_cmd_prefix": "del ",
     "library": "var_list.py",
     "varRefreshCmd": "print(var_dic_list())"
    },
    "r": {
     "delete_cmd_postfix": ") ",
     "delete_cmd_prefix": "rm(",
     "library": "var_list.r",
     "varRefreshCmd": "cat(var_dic_list()) "
    }
   },
   "types_to_exclude": [
    "module",
    "function",
    "builtin_function_or_method",
    "instance",
    "_Feature"
   ],
   "window_display": false
  }
 },
 "nbformat": 4,
 "nbformat_minor": 2
}
