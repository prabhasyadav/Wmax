{
 "cells": [
  {
   "cell_type": "code",
   "execution_count": 8,
   "metadata": {
    "hide_input": false
   },
   "outputs": [],
   "source": [
    "import numpy as np\n",
    "import matplotlib.pyplot as plt \n",
    "from scipy import optimize \n",
    "from scipy.special import erf\n",
    "BOLD = '\\033[1m'"
   ]
  },
  {
   "cell_type": "code",
   "execution_count": 9,
   "metadata": {
    "hide_input": false
   },
   "outputs": [],
   "source": [
    "# Input\n",
    "M = 2\n",
    "W = 10  \n",
    "ath = 0.01\n",
    "atv = 0.001\n",
    "Ca = 8\n",
    "Cd = 5 \n",
    "Ct = 0.0\n",
    "ga = 3.5"
   ]
  },
  {
   "cell_type": "code",
   "execution_count": 10,
   "metadata": {
    "code_folding": [],
    "hide_input": false
   },
   "outputs": [
    {
     "name": "stdout",
     "output_type": "stream",
     "text": [
      "\u001b[1mThe main functions\n"
     ]
    }
   ],
   "source": [
    "#Main code\n",
    "\n",
    "def f_lm(x): # Liedl 2011- f(x) = 0\n",
    "    return erf(W/(np.sqrt(4*ath*x)))*np.exp(-atv*x*(np.pi/(2*M))**2)-(np.pi/4)*((ga*Ct+Ca)/(ga*Cd + Ca)) \n",
    "\n",
    "def df_lm(x): # FD estimate df\n",
    "    h = 1e-4\n",
    "    return (f_lm(x+h) - f_lm(x-h))/(2*h)\n",
    "\n",
    "def df_lm1(x): # exact df\n",
    "    return -W/(2*x*np.sqrt(np.pi)*np.sqrt(atv*x))*np.exp(-(W**2)/(4*atv*x))*np.exp(-(np.pi**2*atv*x)/(4*M**2)) \\\n",
    "        - (1/(4*M**2))*np.pi**2*atv*np.exp((-np.pi**2*atv*x)/(4*M**2))*erf(W/(2*np.sqrt(atv*x)))  \n",
    "\n",
    "def NR(x): # Newton Raphson simulation using FD\n",
    "    iterat = 0\n",
    "    tol = 1e-06\n",
    "    h = f_lm(x)/df_lm(x)\n",
    "    print(\"Iter. Nr \",\"\", \"Lmax\",\"       \" , \" Residual\")\n",
    "    print('-'*35)   \n",
    "    \n",
    "    while abs(h)>= tol:\n",
    "        h = f_lm(x)/df_lm(x) \n",
    "        x = x - h\n",
    "        iterat+= 1 \n",
    "        print(\" \",iterat,  \"    \" , \"%.4f \"% x, \"   \" , \"%.2e \" %  h) \n",
    "        \n",
    "def NR1(x): # Newton Raphson simulation using exact df\n",
    "    iterat = 0\n",
    "    tol = 1e-06\n",
    "    h = f_lm(x)/df_lm1(x)\n",
    "    print(\"Iter. Nr \",\"\", \"Lmax\",\"       \" , \" Residual\")\n",
    "    print('-'*35)  \n",
    "    \n",
    "    while abs(h)>= tol:\n",
    "        h = f_lm(x)/df_lm1(x) \n",
    "        x = x - h\n",
    "        iterat+= 1\n",
    "        print(\" \",iterat,  \"    \" , \"%.4f \"% x, \"   \" , \"%.2e \" %  h)\n",
    "\n",
    "print(\"{}The main functions\".format(BOLD))"
   ]
  },
  {
   "cell_type": "code",
   "execution_count": 11,
   "metadata": {
    "hide_input": false
   },
   "outputs": [
    {
     "name": "stdout",
     "output_type": "stream",
     "text": [
      "\u001b[1mThe f(x) = 0 plot\n"
     ]
    },
    {
     "data": {
      "image/png": "[encoded data removed]",
      "text/plain": [
       "<Figure size 432x288 with 1 Axes>"
      ]
     },
     "metadata": {
      "needs_background": "light"
     },
     "output_type": "display_data"
    }
   ],
   "source": [
    "#f(x) = 0 Plot\n",
    "print(\"{}The f(x) = 0 plot\".format(BOLD))\n",
    "x = np.linspace(1,25000, 25000)\n",
    "y = f_lm(x)\n",
    "plt.plot(x,y) \n",
    "plt.grid() \n",
    "plt.xlabel(r\"$L_{max}$, m\");\n",
    "plt.ylabel(r\"$f(x) = 0$\");"
   ]
  },
  {
   "cell_type": "code",
   "execution_count": 12,
   "metadata": {
    "hide_input": false
   },
   "outputs": [
    {
     "name": "stdout",
     "output_type": "stream",
     "text": [
      "\u001b[1m\n",
      "The initial value is 2270.8936712404343\n"
     ]
    }
   ],
   "source": [
    "print(\"{}\".format(BOLD))\n",
    "ma_1 = -1/(np.pi*(ath/W**2)*np.log(1-(0.25*np.pi*((ga*Ct+Ca)/(ga*Cd+Ca)))))\n",
    "ma_2 = -2/(np.pi**2*(atv/M**2))*np.log(0.25*np.pi*((ga*Ct+Ca)/(ga*Cd+Ca))) \n",
    "ma_3 = 4/np.pi**2*(M**2/atv)*np.log((4/np.pi)*((ga*Cd+ Ca)/(ga*Ct+ Ca)))\n",
    "\n",
    "ma_x0 = np.minimum(np.maximum(ma_1, ma_2), ma_3)\n",
    "\n",
    "min_x0 = np.minimum(-1/(np.pi*(ath/W**2) *np.log(1-(0.25*np.pi*((ga*Ct+Ca)/(ga*Cd+Ca))))), \\\n",
    "                    -2/(np.pi**2*(atv/M**2))*np.log(0.25*np.pi*((ga*Ct+Ca)/(ga*Cd+Ca))))\n",
    "\n",
    "if ma_x0 == ma_3:\n",
    "    print(\"The initial value is\", ma_x0)\n",
    "    x0 = ma_x0\n",
    "else:\n",
    "    print(\"The initial value is\", min_x0)\n",
    "    x0 = ma_x0"
   ]
  },
  {
   "cell_type": "markdown",
   "metadata": {},
   "source": []
  },
  {
   "cell_type": "code",
   "execution_count": 13,
   "metadata": {
    "hide_input": false
   },
   "outputs": [
    {
     "name": "stdout",
     "output_type": "stream",
     "text": [
      "\u001b[1mResult with estimated differntial\n",
      "Iter. Nr   Lmax          Residual\n",
      "-----------------------------------\n",
      "  1      2047.4211      2.23e+02 \n",
      "  2      2064.6887      -1.73e+01 \n",
      "  3      2064.3211      3.68e-01 \n",
      "  4      2064.3305      -9.44e-03 \n",
      "  5      2064.3303      2.42e-04 \n",
      "  6      2064.3303      -6.19e-06 \n",
      "  7      2064.3303      1.58e-07 \n",
      "\n",
      "Result with exact differntial\n",
      "Iter. Nr   Lmax          Residual\n",
      "-----------------------------------\n",
      "  1      2048.0166      2.23e+02 \n",
      "  2      2064.2344      -1.62e+01 \n",
      "  3      2064.3303      -9.59e-02 \n",
      "  4      2064.3303      -3.33e-06 \n",
      "  5      2064.3303      1.57e-13 \n",
      "\n",
      "Result with Scipy code using SECANT method\n",
      "2064.330297981322\n"
     ]
    }
   ],
   "source": [
    "BOLD = '\\033[1m'\n",
    "\n",
    "print(\"{}Result with estimated differntial\".format(BOLD)) \n",
    "NR1(x0) # simulations using exact differential\n",
    "print()\n",
    "\n",
    "print(\"Result with exact differntial\")\n",
    "NR(x0)   # simulations using approximated differential \n",
    "print()\n",
    "\n",
    "print(\"Result with Scipy code using SECANT method\")\n",
    "secant= optimize.newton(f_lm, x0)  # simulation using secant method\n",
    "print(secant) "
   ]
  },
  {
   "cell_type": "code",
   "execution_count": 30,
   "metadata": {},
   "outputs": [
    {
     "data": {
      "text/plain": [
       "1"
      ]
     },
     "execution_count": 30,
     "metadata": {},
     "output_type": "execute_result"
    }
   ],
   "source": [
    "1"
   ]
  },
  {
   "cell_type": "code",
   "execution_count": null,
   "metadata": {},
   "outputs": [],
   "source": []
  }
 ],
 "metadata": {
  "hide_input": false,
  "kernelspec": {
   "display_name": "Python 3",
   "language": "python",
   "name": "python3"
  },
  "language_info": {
   "codemirror_mode": {
    "name": "ipython",
    "version": 3
   },
   "file_extension": ".py",
   "mimetype": "text/x-python",
   "name": "python",
   "nbconvert_exporter": "python",
   "pygments_lexer": "ipython3",
   "version": "3.7.6"
  },
  "latex_envs": {
   "LaTeX_envs_menu_present": true,
   "autoclose": true,
   "autocomplete": true,
   "bibliofile": "biblio.bib",
   "cite_by": "apalike",
   "current_citInitial": 1,
   "eqLabelWithNumbers": false,
   "eqNumInitial": 1,
   "hotkeys": {
    "equation": "Ctrl-E",
    "itemize": "Ctrl-I"
   },
   "labels_anchors": false,
   "latex_user_defs": false,
   "report_style_numbering": false,
   "user_envs_cfg": false
  },
  "varInspector": {
   "cols": {
    "lenName": 16,
    "lenType": 16,
    "lenVar": 40
   },
   "kernels_config": {
    "python": {
     "delete_cmd_postfix": "",
     "delete_cmd_prefix": "del ",
     "library": "var_list.py",
     "varRefreshCmd": "print(var_dic_list())"
    },
    "r": {
     "delete_cmd_postfix": ") ",
     "delete_cmd_prefix": "rm(",
     "library": "var_list.r",
     "varRefreshCmd": "cat(var_dic_list()) "
    }
   },
   "position": {
    "height": "651.4px",
    "left": "1166px",
    "right": "20px",
    "top": "120px",
    "width": "350px"
   },
   "types_to_exclude": [
    "module",
    "function",
    "builtin_function_or_method",
    "instance",
    "_Feature"
   ],
   "window_display": false
  }
 },
 "nbformat": 4,
 "nbformat_minor": 2
}
