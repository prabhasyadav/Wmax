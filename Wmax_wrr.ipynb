{
 "cells": [
  {
   "cell_type": "markdown",
   "metadata": {},
   "source": [
    "## Supplimentaty material for the Paper ##\n",
    "\n",
    "The code below solves the following equation set. \n",
    "\n",
    "$$\n",
    "\\frac{2}{\\pi} A \\bigg[\\text{erf}\\bigg(\\frac{y+W}{\\sqrt{4\\alpha_{Th}\\,x}}\\bigg) -  \\text{erf}\\bigg(\\frac{y-W}{\\sqrt{4\\alpha_{Th}\\,x}}\\bigg)\\bigg ]\\\\\n",
    "\\cdot e^{(- B x)}- D = 0\n",
    "$$\n",
    "\n",
    "$$\n",
    "-B D +\\frac{2 A }{\\pi}\\left(\\frac{\\left(- \\frac{W}{2} + \\frac{y}{2}\\right) e^{- \\frac{\\left(- W + y\\right)^{2}}{4 \\alpha_{Th} \\,x}}}{\\sqrt{\\pi} x \\sqrt{\\alpha_{Th}\\,x}} - \\frac{\\left(\\frac{W}{2} + \\frac{y}{2}\\right) e^{- \\frac{\\left(W + y\\right)^{2}}{4 \\alpha_{Th} x}}}{\\sqrt{\\pi} x \\sqrt{\\alpha_{Th} \\,x}}\\right) e^{(- B x)}=0\n",
    "$$\n",
    "\n",
    "with\n",
    "\n",
    " $ A=  (\\gamma C_D^\\circ + C_A^\\circ) $, $ B = \\frac{\\pi^2}{4M^2}\\alpha_{Tv}$, and $D =(C_A^\\circ + C^\\ast)$\n",
    "\n",
    "(The symbols name are in input cell)\n",
    " \n",
    "\n",
    "**The solution steps:**\n",
    "\n",
    "1. Provide model input\n",
    "2. Obtain estimate of $L_{max}$ using Liedl et al. (2011)\n",
    "3. Adjust the starting value for $W_{max}$ and $X_{wmax}$\n",
    "4. Iteratively solve the equation set using Newton-Krylov (LGMRES method, see below for details)\n",
    "\n",
    "\n",
    "**First we import the Python library**\n"
   ]
  },
  {
   "cell_type": "code",
   "execution_count": 17,
   "metadata": {
    "ExecuteTime": {
     "end_time": "2020-12-09T14:16:05.124527Z",
     "start_time": "2020-12-09T14:15:42.334498Z"
    }
   },
   "outputs": [],
   "source": [
    "import numpy as np\n",
    "import scipy.optimize as so\n",
    "from scipy.special import erf"
   ]
  },
  {
   "cell_type": "markdown",
   "metadata": {},
   "source": [
    "### Step 1: the model input:"
   ]
  },
  {
   "cell_type": "code",
   "execution_count": 10,
   "metadata": {
    "ExecuteTime": {
     "end_time": "2020-12-09T14:17:51.110755Z",
     "start_time": "2020-12-09T14:17:51.102755Z"
    }
   },
   "outputs": [],
   "source": [
    "M = 2 # m, source thickness\n",
    "W = 5 # m, source width\n",
    "ath = 0.036 # m, horizontal transverse dispersivity\n",
    "atv = 0.0018 # m, vertical transverse dispersivity\n",
    "Ca = 7.68 # mg/L, O_2 concentration\n",
    "Cd = 17.3 # mg/L, contaminant concentration\n",
    "Ct = 0.001 # mg/L, threshold concentration\n",
    "ga = 3.5 # [-], stoicheometric constant "
   ]
  },
  {
   "cell_type": "markdown",
   "metadata": {},
   "source": [
    "\n",
    "### Step II: Obtaining $L_{max}$ using Liedl et al. (2011) ###\n",
    "\n",
    "The expression provided in Liedl et al. (2011) is:\n",
    "\n",
    "$$\n",
    "\\text{erf}\\Bigg(\\frac{W}{\\sqrt{4\\alpha_{Th}L_{max}}}\\Bigg)\\,\\text{e}^{-\\alpha_{Tv}L_{max} \\big(\\frac{\\pi}{2M}\\big)^2} =\\frac{\\pi}{4}\\frac{\\gamma C^*+C_{A}^\\circ}{\\gamma C_{D}^\\circ+C_{A}^\\circ}\n",
    "$$\n",
    "\n",
    "$L_{max}$ is implicit and requires iterative solution. We use Newton-Raphson (NR) method to obtain $L_{max}$.\n",
    "\n",
    "The code below solves NR using estimate for differential and using exact FD\n",
    "\n",
    "\n",
    "**The main NR routine**"
   ]
  },
  {
   "cell_type": "code",
   "execution_count": 11,
   "metadata": {
    "ExecuteTime": {
     "end_time": "2020-12-09T14:17:51.584886Z",
     "start_time": "2020-12-09T14:17:51.565919Z"
    },
    "code_folding": []
   },
   "outputs": [],
   "source": [
    "def f_lm(x): # Liedl 2011- f(x) = 0\n",
    "    return erf(W/(np.sqrt(4*ath*x)))*np.exp(-atv*x*(np.pi/(2*M))**2)-(np.pi/4)*((ga*Ct+Ca)/(ga*Cd + Ca)) \n",
    "\n",
    "def df_lm(x): # FD estimate df\n",
    "    h = 1e-4\n",
    "    return (f_lm(x+h) - f_lm(x-h))/(2*h)\n",
    "\n",
    "def df_lm1(x): # exact df\n",
    "    return -W/(2*x*np.sqrt(np.pi)*np.sqrt(atv*x))*np.exp(-(W**2)/(4*atv*x))*np.exp(-(np.pi**2*atv*x)/(4*M**2)) \\\n",
    "        - (1/(4*M**2))*np.pi**2*atv*np.exp((-np.pi**2*atv*x)/(4*M**2))*erf(W/(2*np.sqrt(atv*x)))  \n",
    "\n",
    "def NR(x): # Newton Raphson simulation using FD\n",
    "    iterat = 0\n",
    "    tol = 1e-06\n",
    "    h = f_lm(x)/df_lm(x)\n",
    "    print(\"Iter. Nr \",\"\", \"Lmax\",\"       \" , \" Residual\")\n",
    "    print('-'*35)   \n",
    "    \n",
    "    while abs(h)>= tol:\n",
    "        h = f_lm(x)/df_lm(x) \n",
    "        x = x - h\n",
    "        iterat+= 1 \n",
    "        #print(\" \",iterat,  \"    \" , \"%.4f \"% x, \"   \" , \"%.2e \" %  h) \n",
    "    return x\n",
    "        \n",
    "def NR1(x): # Newton Raphson simulation using exact df\n",
    "    iterat = 0\n",
    "    tol = 1e-06\n",
    "    h = f_lm(x)/df_lm1(x)\n",
    "    \n",
    "    while abs(h)>= tol:\n",
    "        h = f_lm(x)/df_lm1(x)\n",
    "        x = x - h\n",
    "        iterat+= 1\n",
    "    return x"
   ]
  },
  {
   "cell_type": "markdown",
   "metadata": {},
   "source": [
    "**Starting value for NR method**\n",
    "\n",
    "The starting value is based on Liedl et al. (2005), which provides explicit $L_{max}$ from 2D set-up. "
   ]
  },
  {
   "cell_type": "code",
   "execution_count": 12,
   "metadata": {
    "ExecuteTime": {
     "end_time": "2020-12-09T14:17:52.044929Z",
     "start_time": "2020-12-09T14:17:52.014727Z"
    },
    "code_folding": []
   },
   "outputs": [],
   "source": [
    "ma_1 = -1/(np.pi*(ath/W**2)*np.log(1-(0.25*np.pi*((ga*Ct+Ca)/(ga*Cd+Ca)))))\n",
    "ma_2 = -2/(np.pi**2*(atv/M**2))*np.log(0.25*np.pi*((ga*Ct+Ca)/(ga*Cd+Ca))) \n",
    "ma_3 = 4/np.pi**2*(M**2/atv)*np.log((4/np.pi)*((ga*Cd+ Ca)/(ga*Ct+ Ca)))\n",
    "\n",
    "ma_x0 = np.minimum(np.maximum(ma_1, ma_2), ma_3)\n",
    "\n",
    "min_x0 = np.minimum(-1/(np.pi*(ath/W**2) *np.log(1-(0.25*np.pi*((ga*Ct+Ca)/(ga*Cd+Ca))))), \\\n",
    "                    -2/(np.pi**2*(atv/M**2))*np.log(0.25*np.pi*((ga*Ct+Ca)/(ga*Cd+Ca))))\n",
    "\n",
    "if ma_x0 == ma_3:\n",
    "    x0 = ma_x0\n",
    "else:\n",
    "    x0 = min_x0"
   ]
  },
  {
   "cell_type": "markdown",
   "metadata": {},
   "source": [
    "**Solution of $L_{max}$** from Liedl et al. (2011) using the routine developed above."
   ]
  },
  {
   "cell_type": "code",
   "execution_count": 18,
   "metadata": {
    "ExecuteTime": {
     "end_time": "2020-12-09T14:17:52.405126Z",
     "start_time": "2020-12-09T14:17:52.383763Z"
    },
    "tags": []
   },
   "outputs": [
    {
     "name": "stdout",
     "output_type": "stream",
     "text": [
      "Iter. Nr   Lmax          Residual\n",
      "-----------------------------------\n",
      "1335.9130755639837\n"
     ]
    }
   ],
   "source": [
    "# Lmax solution\n",
    "\n",
    "lmax = NR(x0) # simulations using exact differential\n",
    "print(lmax)"
   ]
  },
  {
   "cell_type": "markdown",
   "metadata": {},
   "source": [
    "### Step III: Starting value of $W_{max}$ and $X_{wmax}$ ###\n",
    "\n",
    "- We use $L_{max}$ from above to obtain the starting value of $X_{wmax}$\n",
    "- For $W_{max}$ the starting value is arbitarily considered (See accompanied table to choose appropriate starting value)"
   ]
  },
  {
   "cell_type": "code",
   "execution_count": 14,
   "metadata": {
    "ExecuteTime": {
     "end_time": "2020-12-09T14:17:52.804890Z",
     "start_time": "2020-12-09T14:17:52.792320Z"
    },
    "tags": []
   },
   "outputs": [
    {
     "name": "stdout",
     "output_type": "stream",
     "text": [
      "333.97826889099593\n",
      "6.5\n"
     ]
    }
   ],
   "source": [
    "# starting value\n",
    "\n",
    "x_s = lmax/ 4\n",
    "print(x_s)\n",
    "y_s = W * 1.3\n",
    "print(y_s)\n",
    "st = [x_s, y_s]"
   ]
  },
  {
   "cell_type": "markdown",
   "metadata": {},
   "source": [
    "### Step IV: Solution of $W_{max}$ and $X_{wmax}$ using Newton-Krylov (NK) non-linear system solver using LGMRES method. ###\n",
    "\n",
    "The code used below is described in detailed here: \n",
    "https://docs.scipy.org/doc/scipy/reference/generated/scipy.optimize.newton_krylov.html\n",
    "\n",
    "First we set-up our function"
   ]
  },
  {
   "cell_type": "code",
   "execution_count": 15,
   "metadata": {
    "ExecuteTime": {
     "end_time": "2020-12-09T14:17:53.204526Z",
     "start_time": "2020-12-09T14:17:53.184823Z"
    },
    "code_folding": []
   },
   "outputs": [],
   "source": [
    "A = (ga*Cd+Ca)\n",
    "B = (np.pi**2*atv)/(4*M**2)\n",
    "D = Ca+Ct\n",
    "\n",
    "#def f(x):\n",
    "#    return [(2*A)/(np.pi)*(ss.erf((x[1]+W)/(np.sqrt(4*ath*x[0])))-ss.erf((x[1]-W)/(np.sqrt(4*ath*x[0]))))*np.exp(-B*x[0])-D, \n",
    "#            -B*D + (2*A)/np.pi*np.exp(-B*x[0])*((((-W/2 + x[1]/2)*np.exp(-(x[1]-W)**2/(4*ath*x[0])))/(x[0]*np.sqrt(np.pi*ath*x[0]))) - (((W/2 + x[1]/2)*np.exp(-(x[1]+W)**2/(4*ath*x[0])))/(x[0]*np.sqrt(np.pi*ath*x[0]))))]\n",
    "\n",
    "def f(x):\n",
    "    return [(2*A)/(np.pi)*(erf((x[1]+W)/(np.sqrt(4*ath*x[0])))-erf((x[1]-W)/(np.sqrt(4*ath*x[0]))))*np.exp(-B*x[0])-D, \n",
    "            -B*D + (2*A)/np.pi*np.exp(-B*x[0])*((((-W/2 + x[1]/2)*np.exp(-(x[1]-W)**2/(4*ath*x[0])))/(x[0]*np.sqrt(np.pi*ath*x[0]))) - (((W/2 + x[1]/2)*np.exp(-(x[1]+W)**2/(4*ath*x[0])))/(x[0]*np.sqrt(np.pi*ath*x[0]))))]"
   ]
  },
  {
   "cell_type": "markdown",
   "metadata": {},
   "source": [
    "**The main NK routine**\n",
    "\n",
    "Few solver conditions:\n",
    "\n",
    "tolerance: 6e-6\n",
    "Preconditioner for Jacobian: None\n",
    "Maximum iteration: Not set.\n",
    "\n",
    "The solution format (see below) is ($X_{wmax}$, $W_{max}$) and $L_{max}$"
   ]
  },
  {
   "cell_type": "code",
   "execution_count": 19,
   "metadata": {
    "ExecuteTime": {
     "end_time": "2020-12-09T14:17:53.804850Z",
     "start_time": "2020-12-09T14:17:53.624938Z"
    },
    "tags": []
   },
   "outputs": [
    {
     "name": "stdout",
     "output_type": "stream",
     "text": [
      "0:  |F(x)| = 4.38779; step 1\n",
      "1:  |F(x)| = 0.785072; step 1\n",
      "2:  |F(x)| = 0.0390671; step 1\n",
      "3:  |F(x)| = 0.00484306; step 1\n",
      "4:  |F(x)| = 0.0048431; step 1\n",
      "5:  |F(x)| = 0.0048431; step 1\n",
      "6:  |F(x)| = 0.0048431; step 1\n",
      "7:  |F(x)| = 0.0048431; step 1\n",
      "8:  |F(x)| = 0.0048431; step 1\n",
      "9:  |F(x)| = 2.46864; step 1\n",
      "10:  |F(x)| = 0.779402; step 1\n",
      "11:  |F(x)| = 0.0385388; step 1\n",
      "12:  |F(x)| = 12.5257; step 1\n",
      "13:  |F(x)| = 3.55521; step 1\n",
      "14:  |F(x)| = 0.557256; step 1\n",
      "15:  |F(x)| = 0.0194394; step 1\n",
      "16:  |F(x)| = 0.00603703; step 1\n",
      "17:  |F(x)| = 0.00595496; step 0.0134703\n",
      "18:  |F(x)| = 0.00588479; step 0.0116936\n",
      "19:  |F(x)| = 0.00582167; step 0.0106523\n",
      "20:  |F(x)| = 0.00576308; step 0.01\n",
      "21:  |F(x)| = 0.00570509; step 0.01\n",
      "22:  |F(x)| = 0.00564769; step 0.01\n",
      "23:  |F(x)| = 0.00559088; step 0.01\n",
      "24:  |F(x)| = 0.00553464; step 0.01\n",
      "25:  |F(x)| = 0.00547898; step 0.01\n",
      "26:  |F(x)| = 0.00542388; step 0.01\n",
      "27:  |F(x)| = 0.00536934; step 0.01\n",
      "28:  |F(x)| = 0.00531535; step 0.01\n",
      "29:  |F(x)| = 0.00526192; step 0.01\n",
      "30:  |F(x)| = 0.00520902; step 0.01\n",
      "31:  |F(x)| = 0.00515666; step 0.01\n",
      "32:  |F(x)| = 0.00510484; step 0.01\n",
      "33:  |F(x)| = 0.00505353; step 0.01\n",
      "34:  |F(x)| = 0.00500275; step 0.01\n",
      "35:  |F(x)| = 0.00495248; step 0.01\n",
      "36:  |F(x)| = 0.00490273; step 0.01\n",
      "37:  |F(x)| = 0.00485347; step 0.01\n",
      "38:  |F(x)| = 0.00480471; step 0.01\n",
      "39:  |F(x)| = 0.00475645; step 0.01\n",
      "40:  |F(x)| = 0.00470868; step 0.01\n",
      "41:  |F(x)| = 0.00466139; step 0.01\n",
      "42:  |F(x)| = 0.00461457; step 0.01\n",
      "43:  |F(x)| = 0.00456824; step 0.01\n",
      "44:  |F(x)| = 0.00452236; step 0.01\n",
      "45:  |F(x)| = 0.00447696; step 0.01\n",
      "46:  |F(x)| = 0.00443201; step 0.01\n",
      "47:  |F(x)| = 0.00438751; step 0.01\n",
      "48:  |F(x)| = 0.00434347; step 0.01\n",
      "49:  |F(x)| = 0.00429987; step 0.01\n",
      "50:  |F(x)| = 0.00425671; step 0.01\n",
      "51:  |F(x)| = 0.00421399; step 0.01\n",
      "52:  |F(x)| = 0.00417169; step 0.01\n",
      "53:  |F(x)| = 0.00412983; step 0.01\n",
      "54:  |F(x)| = 0.00408838; step 0.01\n",
      "55:  |F(x)| = 0.00404736; step 0.01\n",
      "56:  |F(x)| = 0.00400674; step 0.01\n",
      "57:  |F(x)| = 0.00396654; step 0.01\n",
      "58:  |F(x)| = 0.00392675; step 0.01\n",
      "59:  |F(x)| = 0.00388735; step 0.01\n",
      "60:  |F(x)| = 0.00384835; step 0.01\n",
      "61:  |F(x)| = 0.00380975; step 0.01\n",
      "62:  |F(x)| = 0.00377153; step 0.01\n",
      "63:  |F(x)| = 0.0037337; step 0.01\n",
      "64:  |F(x)| = 0.00369625; step 0.01\n",
      "65:  |F(x)| = 0.00365917; step 0.01\n",
      "66:  |F(x)| = 0.00362247; step 0.01\n",
      "67:  |F(x)| = 0.00358614; step 0.01\n",
      "68:  |F(x)| = 0.00354959; step 0.0101627\n",
      "69:  |F(x)| = 0.00351279; step 0.0103392\n",
      "70:  |F(x)| = 0.00347572; step 0.0105218\n",
      "71:  |F(x)| = 0.00343838; step 0.0107112\n",
      "72:  |F(x)| = 0.00340076; step 0.0109074\n",
      "73:  |F(x)| = 0.00336287; step 0.011111\n",
      "74:  |F(x)| = 0.00332717; step 0.0113227\n",
      "75:  |F(x)| = 0.00332686; step 0.0115417\n",
      "76:  |F(x)| = 0.00332553; step 0.0115881\n",
      "77:  |F(x)| = 0.00332382; step 0.0118354\n",
      "78:  |F(x)| = 0.00338145; step 0.0225362\n",
      "79:  |F(x)| = 0.00342607; step 0.0220121\n",
      "80:  |F(x)| = 0.00346017; step 0.0215993\n",
      "81:  |F(x)| = 0.00348571; step 0.0212868\n",
      "82:  |F(x)| = 0.00350419; step 0.0210699\n",
      "83:  |F(x)| = 0.00351677; step 0.0209412\n",
      "84:  |F(x)| = 0.00352437; step 0.0208955\n",
      "85:  |F(x)| = 0.0035277; step 0.0209279\n",
      "86:  |F(x)| = 0.00352732; step 0.0210338\n",
      "87:  |F(x)| = 0.00352368; step 0.0212113\n",
      "88:  |F(x)| = 0.00351711; step 0.0214579\n",
      "89:  |F(x)| = 0.00350789; step 0.0217728\n",
      "90:  |F(x)| = 0.00349623; step 0.0221559\n",
      "91:  |F(x)| = 0.00348229; step 0.0226078\n",
      "92:  |F(x)| = 0.00346619; step 0.0231318\n",
      "93:  |F(x)| = 0.00344801; step 0.0237295\n",
      "94:  |F(x)| = 0.00342781; step 0.0244055\n",
      "95:  |F(x)| = 0.00340562; step 0.0251655\n",
      "96:  |F(x)| = 0.00338144; step 0.0260171\n",
      "97:  |F(x)| = 0.00335526; step 0.0269675\n",
      "98:  |F(x)| = 0.00332703; step 0.028026\n",
      "99:  |F(x)| = 0.00329669; step 0.0292076\n",
      "100:  |F(x)| = 0.00326416; step 0.0305258\n",
      "101:  |F(x)| = 0.00322931; step 0.031998\n",
      "102:  |F(x)| = 0.00319202; step 0.0336481\n",
      "103:  |F(x)| = 0.0031521; step 0.0355031\n",
      "104:  |F(x)| = 0.00310935; step 0.037597\n",
      "105:  |F(x)| = 0.00306352; step 0.0399719\n",
      "106:  |F(x)| = 0.00301428; step 0.0426817\n",
      "107:  |F(x)| = 0.00296127; step 0.0457956\n",
      "108:  |F(x)| = 0.00290402; step 0.0494019\n",
      "109:  |F(x)| = 0.00284197; step 0.0536203\n",
      "110:  |F(x)| = 0.00277439; step 0.0586122\n",
      "111:  |F(x)| = 0.00270039; step 0.0645959\n",
      "112:  |F(x)| = 0.00261878; step 0.0718912\n",
      "113:  |F(x)| = 0.002528; step 0.0809619\n",
      "114:  |F(x)| = 0.0025497; step 0.171698\n",
      "115:  |F(x)| = 0.00242857; step 0.184303\n",
      "116:  |F(x)| = 0.00221511; step 0.21871\n",
      "117:  |F(x)| = 0.00190586; step 0.301795\n",
      "118:  |F(x)| = 0.00141829; step 0.514495\n",
      "119:  |F(x)| = 0.000414561; step 1\n",
      "120:  |F(x)| = 5.22338e-08; step 1\n"
     ]
    },
    {
     "data": {
      "text/plain": [
       "(array([554.20052855,  11.04910857]), 1335.9130755639837)"
      ]
     },
     "execution_count": 19,
     "metadata": {},
     "output_type": "execute_result"
    }
   ],
   "source": [
    "sol = so.newton_krylov(f, st, method= 'lgmres', inner_maxiter= 10 ,outer_k= 3, verbose = 1, line_search= 'wolfe')\n",
    "sol, lmax\n",
    "#print(lmax)"
   ]
  },
  {
   "cell_type": "markdown",
   "metadata": {},
   "source": [
    "The code was finalized as part of a MSc. thesis of Mr. Pawan Kumar Sapkota (HTW) completed with supervision\n",
    "from Dr. P. K. Yadav and Prof. R. Liedl ( both TUD) and Prof. T. Grischek (HTW)"
   ]
  }
 ],
 "metadata": {
  "hide_input": false,
  "kernelspec": {
   "display_name": "Python 3",
   "language": "python",
   "name": "python3"
  },
  "language_info": {
   "codemirror_mode": {
    "name": "ipython",
    "version": 3
   },
   "file_extension": ".py",
   "mimetype": "text/x-python",
   "name": "python",
   "nbconvert_exporter": "python",
   "pygments_lexer": "ipython3",
   "version": "3.8.5"
  },
  "latex_envs": {
   "LaTeX_envs_menu_present": true,
   "autoclose": false,
   "autocomplete": true,
   "bibliofile": "biblio.bib",
   "cite_by": "apalike",
   "current_citInitial": 1,
   "eqLabelWithNumbers": true,
   "eqNumInitial": 1,
   "hotkeys": {
    "equation": "Ctrl-E",
    "itemize": "Ctrl-I"
   },
   "labels_anchors": false,
   "latex_user_defs": false,
   "report_style_numbering": false,
   "user_envs_cfg": false
  },
  "toc": {
   "base_numbering": 1,
   "nav_menu": {},
   "number_sections": true,
   "sideBar": true,
   "skip_h1_title": false,
   "title_cell": "Table of Contents",
   "title_sidebar": "Contents",
   "toc_cell": false,
   "toc_position": {},
   "toc_section_display": true,
   "toc_window_display": false
  },
  "varInspector": {
   "cols": {
    "lenName": 16,
    "lenType": 16,
    "lenVar": 40
   },
   "kernels_config": {
    "python": {
     "delete_cmd_postfix": "",
     "delete_cmd_prefix": "del ",
     "library": "var_list.py",
     "varRefreshCmd": "print(var_dic_list())"
    },
    "r": {
     "delete_cmd_postfix": ") ",
     "delete_cmd_prefix": "rm(",
     "library": "var_list.r",
     "varRefreshCmd": "cat(var_dic_list()) "
    }
   },
   "position": {
    "height": "144px",
    "left": "314px",
    "right": "20px",
    "top": "120px",
    "width": "350px"
   },
   "types_to_exclude": [
    "module",
    "function",
    "builtin_function_or_method",
    "instance",
    "_Feature"
   ],
   "window_display": false
  }
 },
 "nbformat": 4,
 "nbformat_minor": 4
}
